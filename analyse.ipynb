{
 "cells": [
  {
   "cell_type": "markdown",
   "id": "a2f505d6",
   "metadata": {},
   "source": [
    "# Projet data science - analyse initiale\n",
    "\n",
    "Ce projet est construit selon l'approche CRISP-ML.\n",
    "\n",
    "## Notre use case\n",
    "\n",
    "Nous sommes Banklytics, pour valider les hypothèques que nous proposons à nos clients, nous souhaitons estimer le prix de vente des maisons afin de nous assurer de la sureté de nos prêts.\n",
    "\n",
    "## Data & business understanding\n",
    "\n",
    "### Variables choices\n",
    "\n",
    "## Baseline model engineering\n",
    "\n",
    "## Model enginering\n",
    "\n",
    "### Base pipeline\n",
    "\n",
    "### Model 1\n",
    "\n",
    "### Model 2\n",
    "\n",
    "### Model 3\n",
    "\n",
    "### Model 4\n",
    "\n"
   ]
  }
 ],
 "metadata": {
  "language_info": {
   "name": "python"
  }
 },
 "nbformat": 4,
 "nbformat_minor": 5
}
