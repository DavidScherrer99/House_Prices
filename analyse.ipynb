{
 "cells": [
  {
   "cell_type": "markdown",
   "id": "a2f505d6",
   "metadata": {},
   "source": [
    "# Projet data science - analyse initiale\n",
    "\n",
    "Ce projet est construit selon l'approche CRISP-ML.\n",
    "\n",
    "## Notre use case\n",
    "\n",
    "Nous sommes Banklytics, pour valider les hypothèques que nous proposons à nos clients, nous souhaitons estimer le prix de vente des maisons afin de nous assurer de la sureté de nos prêts. Nous devons donc développer un modèle permettant de prédire la valeur du bien immobilier se basant sur les critères fournis afin de vérifier si le prix de vente se rapproche de la valeur du bien.\n",
    "\n",
    "## Data & business understanding"
   ]
  },
  {
   "cell_type": "code",
   "execution_count": 1,
   "id": "bffa85cf",
   "metadata": {},
   "outputs": [],
   "source": [
    "import numpy as np\n",
    "import pandas as pd\n",
    "import matplotlib.pyplot as plt\n",
    "import seaborn as sns\n",
    "import scipy.stats as stats\n",
    "from statsmodels.graphics.gofplots import qqplot"
   ]
  },
  {
   "cell_type": "code",
   "execution_count": null,
   "id": "d65fd976",
   "metadata": {},
   "outputs": [],
   "source": [
    "# Data loading\n",
    "train_data = pd.read_csv('train.csv')\n",
    "validation_data = pd.read_csv('test.csv')"
   ]
  },
  {
   "cell_type": "markdown",
   "id": "f831e777",
   "metadata": {},
   "source": [
    "\n",
    "\n",
    "\n",
    "### Variables choices\n",
    "\n",
    "## Baseline model engineering\n",
    "\n",
    "## Model enginering\n",
    "\n",
    "### Base pipeline\n",
    "\n",
    "### Model 1\n",
    "\n",
    "### Model 2\n",
    "\n",
    "### Model 3\n",
    "\n",
    "### Model 4\n",
    "\n"
   ]
  }
 ],
 "metadata": {
  "kernelspec": {
   "display_name": "venv",
   "language": "python",
   "name": "python3"
  },
  "language_info": {
   "codemirror_mode": {
    "name": "ipython",
    "version": 3
   },
   "file_extension": ".py",
   "mimetype": "text/x-python",
   "name": "python",
   "nbconvert_exporter": "python",
   "pygments_lexer": "ipython3",
   "version": "3.13.3"
  }
 },
 "nbformat": 4,
 "nbformat_minor": 5
}
